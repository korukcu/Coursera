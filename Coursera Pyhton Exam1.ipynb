{
 "cells": [
  {
   "cell_type": "markdown",
   "id": "acb16996",
   "metadata": {},
   "source": [
    "## Jupyter Notebook Final Exam"
   ]
  },
  {
   "cell_type": "markdown",
   "id": "bc7ef51e",
   "metadata": {},
   "source": [
    "## Introduction"
   ]
  },
  {
   "cell_type": "markdown",
   "id": "decb2eaa",
   "metadata": {},
   "source": [
    "## Data Science Languages\n",
    "\n",
    "Python\n",
    "\n",
    "R\n",
    "\n",
    "Scala\n",
    "\n",
    "Julia\n",
    "\n",
    "Java"
   ]
  },
  {
   "cell_type": "markdown",
   "id": "981c7def",
   "metadata": {},
   "source": [
    "## Data Science Libraries\n",
    "\n",
    "TensorFlow\n",
    "\n",
    "Numpy\n",
    "\n",
    "Scipy\n",
    "\n",
    "Keras\n",
    "\n",
    "Pytorch\n"
   ]
  },
  {
   "cell_type": "markdown",
   "id": "6e33ff4e",
   "metadata": {},
   "source": [
    "## Data Science Tools\n",
    "\n",
    "Jupyter Notebook\n",
    "\n",
    "Keras\n",
    "\n",
    "Apache Spark\n",
    "\n"
   ]
  },
  {
   "cell_type": "markdown",
   "id": "23dce253",
   "metadata": {},
   "source": [
    "## Arithmetic Examples\n",
    "\n",
    "5y+3=45"
   ]
  },
  {
   "cell_type": "code",
   "execution_count": 1,
   "id": "711aa211",
   "metadata": {},
   "outputs": [
    {
     "data": {
      "text/plain": [
       "(8, 15)"
      ]
     },
     "execution_count": 1,
     "metadata": {},
     "output_type": "execute_result"
    }
   ],
   "source": [
    "x=3\n",
    "y=5\n",
    "z=x+y\n",
    "w=x*y\n",
    "z,w"
   ]
  },
  {
   "cell_type": "code",
   "execution_count": null,
   "id": "98b4064f",
   "metadata": {},
   "outputs": [],
   "source": [
    "#This code converts minutes to hours\n",
    "min=45\n",
    "h=min/60 "
   ]
  },
  {
   "cell_type": "markdown",
   "id": "5d7cdaca",
   "metadata": {},
   "source": [
    "## Objectives\n",
    "\n",
    "Create a Jupyter Notebook with markdown and code cells\n",
    "\n",
    "List examples of languages, libraries and tools used in Data Science\n",
    "\n",
    "Share your Jupyter Notebook publicly on GitHub\n",
    "\n",
    "Evaluate notebooks submitted by your peers using the provided rubric\n",
    "\n",
    "Demonstrate proficiency in Data Science toolkit knowledg"
   ]
  },
  {
   "cell_type": "markdown",
   "id": "4d645c5d",
   "metadata": {},
   "source": [
    "## Author: Ozgun Korukcu"
   ]
  }
 ],
 "metadata": {
  "kernelspec": {
   "display_name": "Python 3",
   "language": "python",
   "name": "python3"
  },
  "language_info": {
   "codemirror_mode": {
    "name": "ipython",
    "version": 3
   },
   "file_extension": ".py",
   "mimetype": "text/x-python",
   "name": "python",
   "nbconvert_exporter": "python",
   "pygments_lexer": "ipython3",
   "version": "3.8.8"
  }
 },
 "nbformat": 4,
 "nbformat_minor": 5
}
