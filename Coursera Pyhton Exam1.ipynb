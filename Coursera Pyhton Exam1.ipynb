{
 "cells": [
  {
   "cell_type": "markdown",
   "id": "af8bc73b",
   "metadata": {},
   "source": [
    "## Data Science Tools and Ecosystem"
   ]
  },
  {
   "cell_type": "markdown",
   "id": "acb16996",
   "metadata": {},
   "source": [
    "## Jupyter Notebook Final Exam"
   ]
  },
  {
   "cell_type": "markdown",
   "id": "bc7ef51e",
   "metadata": {},
   "source": [
    "In this notebook, Data Science tools and Ecosystem are summarized."
   ]
  },
  {
   "cell_type": "markdown",
   "id": "decb2eaa",
   "metadata": {},
   "source": [
    "## Some of important Data Science languages are:\n",
    "\n",
    "1.Python\n",
    "\n",
    "2.R\n",
    "\n",
    "3.SQL\n",
    "\n",
    "4.Scala\n",
    "\n",
    "5.Java\n",
    "\n",
    "6.C++\n",
    "\n",
    "7.Julia\n",
    "\n",
    "8.JavaScript\n",
    "\n",
    "9.PHP\n",
    "\n",
    "10.Go\n",
    "\n",
    "11.Ruby\n",
    "\n",
    "12.Visual Basic"
   ]
  },
  {
   "cell_type": "markdown",
   "id": "981c7def",
   "metadata": {},
   "source": [
    "## Some of commonly used Data Science Libraries include:\n",
    "\n",
    "1.Pandas\n",
    "\n",
    "2.Numpy\n",
    "\n",
    "3.Matplotlib\n",
    "\n",
    "4.Seaborn\n",
    "\n",
    "5.Scikit-learn\n",
    "\n",
    "6.Keras\n",
    "\n",
    "7.TensorFlow\n",
    "\n",
    "8.PyTorch\n",
    "\n",
    "9.Apache Spark\n",
    "\n",
    "10.Vegas\n",
    "\n",
    "11.Big DL\n",
    "\n",
    "12.Ggplot2\n"
   ]
  },
  {
   "cell_type": "markdown",
   "id": "6e33ff4e",
   "metadata": {},
   "source": [
    "## Data Science Tools\n",
    "\n",
    "Anaconda\n",
    "\n",
    "Jupyter Notebooks\n",
    "\n",
    "R Studio\n",
    "\n",
    "Spyder\n",
    "\n",
    "Zeppelin\n",
    "\n"
   ]
  },
  {
   "cell_type": "markdown",
   "id": "23dce253",
   "metadata": {},
   "source": [
    "## Arithmetic Examples\n",
    "\n",
    "5y+3=45"
   ]
  },
  {
   "cell_type": "code",
   "execution_count": 1,
   "id": "711aa211",
   "metadata": {},
   "outputs": [
    {
     "data": {
      "text/plain": [
       "(8, 15)"
      ]
     },
     "execution_count": 1,
     "metadata": {},
     "output_type": "execute_result"
    }
   ],
   "source": [
    "x=3\n",
    "y=5\n",
    "z=x+y\n",
    "w=x*y\n",
    "z,w"
   ]
  },
  {
   "cell_type": "code",
   "execution_count": null,
   "id": "98b4064f",
   "metadata": {},
   "outputs": [],
   "source": [
    "#This code converts minutes to hours\n",
    "min=45\n",
    "h=min/60 "
   ]
  },
  {
   "cell_type": "markdown",
   "id": "5d7cdaca",
   "metadata": {},
   "source": [
    "## Objectives\n",
    "\n",
    "Add comments to code cells.\n",
    "\n",
    "Create markdown cells.\n",
    "\n",
    "Add ordered and unordered list to markdown cells.\n",
    "\n",
    "Format content of markdown cells."
   ]
  },
  {
   "cell_type": "markdown",
   "id": "4d645c5d",
   "metadata": {},
   "source": [
    "## Author: Ozgun Korukcu"
   ]
  }
 ],
 "metadata": {
  "kernelspec": {
   "display_name": "Python 3",
   "language": "python",
   "name": "python3"
  },
  "language_info": {
   "codemirror_mode": {
    "name": "ipython",
    "version": 3
   },
   "file_extension": ".py",
   "mimetype": "text/x-python",
   "name": "python",
   "nbconvert_exporter": "python",
   "pygments_lexer": "ipython3",
   "version": "3.8.8"
  }
 },
 "nbformat": 4,
 "nbformat_minor": 5
}
